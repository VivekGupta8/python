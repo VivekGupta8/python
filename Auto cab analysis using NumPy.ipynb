{
 "cells": [
  {
   "cell_type": "markdown",
   "id": "09953fa0",
   "metadata": {},
   "source": [
    "# New York Airport Cab Data Analysis in 2016 using NumPy    "
   ]
  },
  {
   "cell_type": "markdown",
   "id": "f6513d04",
   "metadata": {},
   "source": [
    "### Vivek Gupta"
   ]
  },
  {
   "cell_type": "code",
   "execution_count": 1,
   "id": "379a20c2",
   "metadata": {},
   "outputs": [],
   "source": [
    "import numpy as np "
   ]
  },
  {
   "cell_type": "code",
   "execution_count": 3,
   "id": "5f49bd61",
   "metadata": {},
   "outputs": [],
   "source": [
    "taxi = np.genfromtxt('nyc_taxis.csv', delimiter = ',', skip_header = True)"
   ]
  },
  {
   "cell_type": "markdown",
   "id": "e621587d",
   "metadata": {},
   "source": [
    "# Mean Speed of Rides"
   ]
  },
  {
   "cell_type": "code",
   "execution_count": 5,
   "id": "89130da8",
   "metadata": {},
   "outputs": [
    {
     "name": "stdout",
     "output_type": "stream",
     "text": [
      "32.24258580925573\n"
     ]
    }
   ],
   "source": [
    "speed = taxi[:,7]/ (taxi[:,8]/3600)\n",
    "\n",
    "mean_speed = speed.mean()\n",
    "\n",
    "print(mean_speed)\n"
   ]
  },
  {
   "cell_type": "markdown",
   "id": "8dfac234",
   "metadata": {},
   "source": [
    "# No. of Rides in February"
   ]
  },
  {
   "cell_type": "code",
   "execution_count": 26,
   "id": "32c88de6",
   "metadata": {},
   "outputs": [
    {
     "name": "stdout",
     "output_type": "stream",
     "text": [
      "Total rides in feb are: 13333\n"
     ]
    }
   ],
   "source": [
    "feb_rides = taxi[taxi[:,1] == 2,1]                        # 2 = Feburary month\n",
    "print(\"Total rides in feb are:\", feb_rides.shape[0])\n"
   ]
  },
  {
   "cell_type": "markdown",
   "id": "6dfa2e0d",
   "metadata": {},
   "source": [
    "# No. of Rides Greater Than $50 Tip"
   ]
  },
  {
   "cell_type": "code",
   "execution_count": 27,
   "id": "d8b1403e",
   "metadata": {},
   "outputs": [
    {
     "name": "stdout",
     "output_type": "stream",
     "text": [
      "No. of rides with tip greater than 50: 16\n"
     ]
    }
   ],
   "source": [
    "tip_50 = taxi[taxi[:,-3] > 50 ,-3]\n",
    "print(\"No. of rides with tip greater than 50:\" ,tip_50.shape[0])"
   ]
  },
  {
   "cell_type": "markdown",
   "id": "485881e8",
   "metadata": {},
   "source": [
    "# No. of Rides whose Drop is JFK Airport"
   ]
  },
  {
   "cell_type": "code",
   "execution_count": 29,
   "id": "2fdb4381",
   "metadata": {},
   "outputs": [
    {
     "name": "stdout",
     "output_type": "stream",
     "text": [
      "No. of rides stops at JFK Airport are: 11832\n"
     ]
    }
   ],
   "source": [
    "jfk_rides = taxi[taxi[:,6] == 2,6]                    # Here 2 = JFK Airport\n",
    "print(\"No. of rides stops at JFK Airport are:\", jfk_rides.shape[0])"
   ]
  },
  {
   "cell_type": "markdown",
   "id": "ea9f153e",
   "metadata": {},
   "source": [
    "# Total No. of Rides"
   ]
  },
  {
   "cell_type": "code",
   "execution_count": 31,
   "id": "36aff56f",
   "metadata": {},
   "outputs": [
    {
     "name": "stdout",
     "output_type": "stream",
     "text": [
      "Total rides in 2016 are: 89560\n"
     ]
    }
   ],
   "source": [
    "yearly_rides = taxi[taxi[:,0] == 2016,0]                        # 2 = Feburary month\n",
    "print(\"Total rides in 2016 are:\", yearly_rides.shape[0])\n"
   ]
  },
  {
   "cell_type": "markdown",
   "id": "3b8d1cbd",
   "metadata": {},
   "source": [
    "# Total Revenue Generated"
   ]
  },
  {
   "cell_type": "code",
   "execution_count": 38,
   "id": "5b799a66",
   "metadata": {},
   "outputs": [
    {
     "name": "stdout",
     "output_type": "stream",
     "text": [
      "4385454.29\n"
     ]
    }
   ],
   "source": [
    "revenue = np.sum(taxi[:,-2])\n",
    "print(revenue)"
   ]
  },
  {
   "cell_type": "code",
   "execution_count": null,
   "id": "9a803c0e",
   "metadata": {},
   "outputs": [],
   "source": []
  }
 ],
 "metadata": {
  "kernelspec": {
   "display_name": "Python 3 (ipykernel)",
   "language": "python",
   "name": "python3"
  },
  "language_info": {
   "codemirror_mode": {
    "name": "ipython",
    "version": 3
   },
   "file_extension": ".py",
   "mimetype": "text/x-python",
   "name": "python",
   "nbconvert_exporter": "python",
   "pygments_lexer": "ipython3",
   "version": "3.9.7"
  }
 },
 "nbformat": 4,
 "nbformat_minor": 5
}
